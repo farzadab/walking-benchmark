{
 "cells": [
  {
   "cell_type": "code",
   "execution_count": 18,
   "metadata": {},
   "outputs": [],
   "source": [
    "'''\n",
    "Creates plots for a grid search experiment (#28) done for torque curriculums\n",
    "\n",
    "Requires the experiments to be available and evaluated in \"torque/orig\" and \"torque/curr\" directories.\n",
    "'''\n",
    "\n",
    "import pandas as pd\n",
    "import numpy as np\n",
    "import math\n",
    "import glob\n",
    "import csv\n",
    "import re\n",
    "import os\n",
    "\n",
    "import matplotlib.pyplot as plt"
   ]
  },
  {
   "cell_type": "code",
   "execution_count": 19,
   "metadata": {},
   "outputs": [],
   "source": [
    "orig_dirs = glob.glob(\"../torque/orig/*/\")\n",
    "orig_limits = [float(re.findall(\"2d-(.*)power\", path)[0]) for path in orig_dirs]\n",
    "\n",
    "curr_dirs = glob.glob(\"../torque/curr/*/*/\")\n",
    "curr_limits = [float(re.findall(\"1.6-(.*)/.+/\", path)[0]) for path in curr_dirs]\n",
    "\n",
    "rcurr_dirs = glob.glob(\"../torque/revcurr/*/*/\")\n",
    "rcurr_limits = [float(re.findall(\"10b-(.*)-0.6/.+/\", path)[0]) for path in rcurr_dirs]"
   ]
  },
  {
   "cell_type": "code",
   "execution_count": 20,
   "metadata": {},
   "outputs": [],
   "source": [
    "def read_data(path):\n",
    "    return pd.read_csv(os.path.join(path, \"evaluate.csv\"))"
   ]
  },
  {
   "cell_type": "code",
   "execution_count": 21,
   "metadata": {},
   "outputs": [
    {
     "data": {
      "text/html": [
       "<div>\n",
       "<style scoped>\n",
       "    .dataframe tbody tr th:only-of-type {\n",
       "        vertical-align: middle;\n",
       "    }\n",
       "\n",
       "    .dataframe tbody tr th {\n",
       "        vertical-align: top;\n",
       "    }\n",
       "\n",
       "    .dataframe thead th {\n",
       "        text-align: right;\n",
       "    }\n",
       "</style>\n",
       "<table border=\"1\" class=\"dataframe\">\n",
       "  <thead>\n",
       "    <tr style=\"text-align: right;\">\n",
       "      <th></th>\n",
       "      <th>MeanEpiRew</th>\n",
       "      <th>MeanEpiAliveRew</th>\n",
       "      <th>MeanEpiProgressRew</th>\n",
       "      <th>MeanEpiOriginalRew</th>\n",
       "    </tr>\n",
       "  </thead>\n",
       "  <tbody>\n",
       "    <tr>\n",
       "      <th>0</th>\n",
       "      <td>3149.72586</td>\n",
       "      <td>999.21</td>\n",
       "      <td>2819.356291</td>\n",
       "      <td>3149.72586</td>\n",
       "    </tr>\n",
       "  </tbody>\n",
       "</table>\n",
       "</div>"
      ],
      "text/plain": [
       "   MeanEpiRew  MeanEpiAliveRew  MeanEpiProgressRew  MeanEpiOriginalRew\n",
       "0  3149.72586           999.21         2819.356291          3149.72586"
      ]
     },
     "execution_count": 21,
     "metadata": {},
     "output_type": "execute_result"
    }
   ],
   "source": [
    "read_data(orig_dirs[0])"
   ]
  },
  {
   "cell_type": "code",
   "execution_count": 22,
   "metadata": {},
   "outputs": [],
   "source": [
    "def read_column(paths, column):\n",
    "    return [read_data(path)[column].item() for path in paths]"
   ]
  },
  {
   "cell_type": "code",
   "execution_count": 23,
   "metadata": {},
   "outputs": [
    {
     "data": {
      "text/plain": [
       "[3149.725860301793, 970.2034253887821, 3000.581907939247, 989.5309070428592]"
      ]
     },
     "execution_count": 23,
     "metadata": {},
     "output_type": "execute_result"
    }
   ],
   "source": [
    "read_column(orig_dirs, \"MeanEpiRew\")[:4]"
   ]
  },
  {
   "cell_type": "code",
   "execution_count": 24,
   "metadata": {},
   "outputs": [],
   "source": [
    "def rand_jitter(arr):\n",
    "    '''\n",
    "    Add a bit of jitter to the array to avoid overlapping datapoints\n",
    "    https://stackoverflow.com/questions/8671808/matplotlib-avoiding-overlapping-datapoints-in-a-scatter-dot-beeswarm-plot\n",
    "    '''\n",
    "    stdev = .001*(max(arr)-min(arr))\n",
    "    return arr + np.random.randn(len(arr)) * stdev\n",
    "\n",
    "def draw(column, column_name):\n",
    "    radius = 30\n",
    "    \n",
    "    x1 = orig_limits\n",
    "    y1 = read_column(orig_dirs, column)\n",
    "#     x1 = rand_jitter(x1)\n",
    "\n",
    "    x2 = curr_limits\n",
    "    y2 = read_column(curr_dirs, column)\n",
    "#     x2 = rand_jitter(x2)\n",
    "\n",
    "    fig = plt.figure()\n",
    "    ax = fig.add_subplot(111)\n",
    "\n",
    "    ax.scatter(x1, y1, s=radius, c='r', alpha=0.7, label=\"Default\")\n",
    "    ax.scatter(x2, y2, s=radius, c='b', alpha=0.35, label=\"Curriculum\")\n",
    "    ax.set_xlabel(\"Torque Limit (Final)\")\n",
    "    ax.set_ylabel(column_name)\n",
    "    plt.legend(loc='upper left')"
   ]
  },
  {
   "cell_type": "code",
   "execution_count": 25,
   "metadata": {},
   "outputs": [
    {
     "data": {
      "image/png": "[encoded data removed]",
      "text/plain": [
       "<Figure size 432x288 with 1 Axes>"
      ]
     },
     "metadata": {
      "needs_background": "light"
     },
     "output_type": "display_data"
    }
   ],
   "source": [
    "draw(\"MeanEpiRew\", \"Mean Cumulative Reward\")"
   ]
  },
  {
   "cell_type": "code",
   "execution_count": 26,
   "metadata": {},
   "outputs": [
    {
     "data": {
      "image/png": "[encoded data removed]",
      "text/plain": [
       "<Figure size 432x288 with 1 Axes>"
      ]
     },
     "metadata": {
      "needs_background": "light"
     },
     "output_type": "display_data"
    }
   ],
   "source": [
    "draw(\"MeanEpiProgressRew\", \"Mean Progress\")"
   ]
  },
  {
   "cell_type": "code",
   "execution_count": 27,
   "metadata": {},
   "outputs": [],
   "source": [
    "def draw_reverse(column, column_name):\n",
    "    radius = 30\n",
    "\n",
    "    x1 = rcurr_limits\n",
    "    y1 = read_column(rcurr_dirs, column)\n",
    "\n",
    "    fig = plt.figure()\n",
    "    ax = fig.add_subplot(111)\n",
    "\n",
    "    ax.scatter(x1, y1, s=radius, c='b', alpha=0.7, label=\"Curriculum ending in 0.6x\")\n",
    "#     ax.scatter(x2, y2, s=radius, c='b', alpha=0.35, label=\"Curriculum\")\n",
    "    ax.set_xlabel(\"Starting Torque Limit\")\n",
    "    ax.set_ylabel(column_name)\n",
    "#     plt.legend(loc='upper left')"
   ]
  },
  {
   "cell_type": "code",
   "execution_count": 28,
   "metadata": {},
   "outputs": [
    {
     "data": {
      "image/png": "[encoded data removed]",
      "text/plain": [
       "<Figure size 432x288 with 1 Axes>"
      ]
     },
     "metadata": {
      "needs_background": "light"
     },
     "output_type": "display_data"
    }
   ],
   "source": [
    "draw_reverse(\"MeanEpiRew\", \"Mean Cumulative Reward\")"
   ]
  },
  {
   "cell_type": "code",
   "execution_count": 29,
   "metadata": {},
   "outputs": [
    {
     "data": {
      "image/png": "[encoded data removed]",
      "text/plain": [
       "<Figure size 432x288 with 1 Axes>"
      ]
     },
     "metadata": {
      "needs_background": "light"
     },
     "output_type": "display_data"
    }
   ],
   "source": [
    "draw_reverse(\"MeanEpiProgressRew\", \"Mean Progress\")"
   ]
  },
  {
   "cell_type": "code",
   "execution_count": null,
   "metadata": {},
   "outputs": [],
   "source": []
  },
  {
   "cell_type": "code",
   "execution_count": null,
   "metadata": {},
   "outputs": [],
   "source": []
  }
 ],
 "metadata": {
  "kernelspec": {
   "display_name": "Python 3",
   "language": "python",
   "name": "python3"
  },
  "language_info": {
   "codemirror_mode": {
    "name": "ipython",
    "version": 3
   },
   "file_extension": ".py",
   "mimetype": "text/x-python",
   "name": "python",
   "nbconvert_exporter": "python",
   "pygments_lexer": "ipython3",
   "version": "3.6.5"
  }
 },
 "nbformat": 4,
 "nbformat_minor": 2
}
